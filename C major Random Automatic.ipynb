{
 "cells": [
  {
   "cell_type": "code",
   "execution_count": 63,
   "id": "76d84a9b",
   "metadata": {},
   "outputs": [
    {
     "name": "stdout",
     "output_type": "stream",
     "text": [
      "Using preset Sitar for sitar\n",
      "Using preset Piano Merlin for piano\n"
     ]
    }
   ],
   "source": [
    "from scamp import *\n",
    "import random\n",
    "s = Session()\n",
    "s.tempo = 80\n",
    "s.fast_forward_in_beats(100)\n",
    "sitar = s.new_part('sitar')\n",
    "piano2= s.new_part('piano')\n",
    "#cello = s.new_part('cello')\n",
    "scale = 1"
   ]
  },
  {
   "cell_type": "code",
   "execution_count": 64,
   "id": "5987b616",
   "metadata": {},
   "outputs": [],
   "source": [
    "import numpy as np\n",
    "\n",
    "bass_notes = [36,40,43,48,\n",
    "             45,48,52,57,\n",
    "             41,45,48,53,\n",
    "             43,47,50,55]*4\n",
    "bass_notes = np.asarray(bass_notes)\n",
    "bass_notes = bass_notes + scale"
   ]
  },
  {
   "cell_type": "code",
   "execution_count": 65,
   "id": "e2c0fa37",
   "metadata": {},
   "outputs": [],
   "source": [
    "def bass():\n",
    "    for bass_note in bass_notes:\n",
    "        piano2.play_note(bass_note,0.5,1.0)\n",
    "    c1 = np.asarray([36,43,48,52,55,60])+scale\n",
    "    c2 = np.asarray([45,52,57,60,64,69])+scale\n",
    "    c3 = np.asarray([41,48,53,57,60,65])+scale\n",
    "    c4 = np.asarray([43,50,55,59,62,67])+scale\n",
    "    piano2.play_chord(c1,0.5,1.0,blocking=False)\n",
    "    piano2.play_chord(c2,0.5,1.0,blocking=False)\n",
    "    piano2.play_chord(c3,0.5,1.0,blocking=False)\n",
    "    piano2.play_chord(c4,0.5,1.0,blocking=False)"
   ]
  },
  {
   "cell_type": "code",
   "execution_count": 66,
   "id": "21da23c7",
   "metadata": {},
   "outputs": [],
   "source": [
    "scale_a = [60,62,64,65,67,69,71,72]\n",
    "scale_d = scale_a[::-1]\n",
    "scale_a = list(np.asarray(scale_a)+scale)\n",
    "scale_d = list(np.asarray(scale_d)+scale)\n",
    "scale_an = scale_a + 2*[None]"
   ]
  },
  {
   "cell_type": "code",
   "execution_count": 67,
   "id": "cfc61fff",
   "metadata": {},
   "outputs": [
    {
     "name": "stdout",
     "output_type": "stream",
     "text": [
      "[[63, 65, 68, 72], [63, 66, 73], [72, 63, 61], [None, 66, None, 73], [None, 72, 66], [70, 65, 63, 72], [68, 61, 66], [63, 66, 73], [70, 73, None, None], [73, 63, 68], [68, 65, 70, 61], [63, 70, 66], [66, 63, 72], [66, None, 70, None], [72, 70, None], [65, 73, 72, 68], [63, 70, 72], [68, 73, 61], [70, 63, 68, 73], [66, 68, 61], [73, 65, 72, 68], [63, 72, 68], [63, 73, 72], [68, None, 66, 73], [73, None, 66], [73, 68, 66, 65], [66, 65, 72], [61, 73, 66], [63, 61, 73, None], [65, None, 70], [61, 65, 72, 66], [66, 73, 70], [63, 73, 61], [66, 72, None, None], [73, 63, None], [73, 61, 70, 72], [73, 72, 63], [66, 63, 61], [63, 66, 72, 70], [68, 61, 72], [70, 63, 65, 61], [61, 72, 65], [63, 61, 65], [68, 70, 61, 66], [68, 61, None], [73, 70, 66, 65], [61, 65, 68], [72, 61, 66], [66, 65, 63, 61], [65, None, 73], [61, 63, 65, 66, 68, 70, 72, 73], [73, 72, 70, 68, 66, 65, 63, 61], [61], [None]]\n"
     ]
    }
   ],
   "source": [
    "mel_pat = []\n",
    "\n",
    "for i in range(10):\n",
    "    mel_pat.append(random.sample(scale_a,4))\n",
    "    mel_pat.append(random.sample(scale_a,3))\n",
    "    mel_pat.append(random.sample(scale_d,3))\n",
    "    mel_pat.append(random.sample(scale_an,4))\n",
    "    mel_pat.append(random.sample(scale_an,3))\n",
    "\n",
    "mel_pat.append(scale_a)\n",
    "mel_pat.append(scale_d)\n",
    "mel_pat.append([60+scale])\n",
    "mel_pat.append([None])\n",
    "print(mel_pat)"
   ]
  },
  {
   "cell_type": "code",
   "execution_count": 68,
   "id": "40b47774",
   "metadata": {},
   "outputs": [],
   "source": [
    "def mel():\n",
    "    for bass_note in bass_notes:\n",
    "        pattern = random.choice(mel_pat)\n",
    "        note_length = 1/len(pattern)\n",
    "        for mel_note in pattern:\n",
    "            if mel_note is None:\n",
    "                wait(note_length)\n",
    "            else:\n",
    "                sitar.play_note(mel_note,1.0,note_length)    "
   ]
  },
  {
   "cell_type": "code",
   "execution_count": 69,
   "id": "03fec4c3",
   "metadata": {},
   "outputs": [],
   "source": [
    "s.start_transcribing()\n",
    "s.fork(bass)\n",
    "s.fork(mel)\n",
    "s.wait_for_children_to_finish()\n",
    "s.stop_transcribing().to_score(title=\"Random Music in C Major\",composer=\"Utkarsh Gaikwad\").show_xml()"
   ]
  },
  {
   "cell_type": "code",
   "execution_count": null,
   "id": "d0a2944d",
   "metadata": {},
   "outputs": [],
   "source": []
  }
 ],
 "metadata": {
  "kernelspec": {
   "display_name": "Python 3 (ipykernel)",
   "language": "python",
   "name": "python3"
  },
  "language_info": {
   "codemirror_mode": {
    "name": "ipython",
    "version": 3
   },
   "file_extension": ".py",
   "mimetype": "text/x-python",
   "name": "python",
   "nbconvert_exporter": "python",
   "pygments_lexer": "ipython3",
   "version": "3.9.7"
  }
 },
 "nbformat": 4,
 "nbformat_minor": 5
}
